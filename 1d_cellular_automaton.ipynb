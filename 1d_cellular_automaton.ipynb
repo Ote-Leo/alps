{
 "cells": [
  {
   "cell_type": "markdown",
   "id": "bfcf2e4c",
   "metadata": {},
   "source": [
    "# Programming Assignment: A\n",
    "\n",
    "Implement a 1-dimensional cellular automaton in Python with the $k = 2$ states $\\{0, 1\\}$, with a neighborhood radius of $r = 1$ or $r = 2$, and $84$ cells.\n",
    "\n",
    "The boundary cells $j = 0$, $j = 1$, $j = 82$, $j = 83$ shall be fixed to the content a $j = 0$. The programm shall depict in every line the complete state of all $84$ cells as `text console ASCII` output.\n",
    "\n",
    "Implement two possible starting conditions for the CA:\n",
    "\n",
    "- **S:** a seed (all cells are empty but cell no $42$, $a_{i=42} = 1$), and\n",
    "- **R:** random starting condition, each cell is set with a probability of $p = 0.5$.\n",
    "\n",
    "Let the user enter at runtime: the neighborhood radius $r$, the rule for the CA (Wolfram Notation), and the starting condition (S or R) and depict at least 20 iterations of the CA."
   ]
  },
  {
   "cell_type": "code",
   "execution_count": 1,
   "id": "85e3c92d",
   "metadata": {},
   "outputs": [],
   "source": [
    "from collections.abc import Sequence, MutableSequence\n",
    "import matplotlib.pyplot as plt\n",
    "\n",
    "\n",
    "CELL_WIDTH: int = 20\n",
    "CELL_HEIGHT: int = CELL_WIDTH\n",
    "\n",
    "\n",
    "def middle_cell(width: int = 84) -> list[int]:\n",
    "\t\"\"\"Create an empty cell board with the middle cell activated.\"\"\"\n",
    "\tcells = [ 0 for _ in range(width) ]\n",
    "\tcells[int(width/2)] = 1\n",
    "\treturn cells\n",
    "\n",
    "\n",
    "def random_cells(width: int = 84) -> list[int]:\n",
    "\timport random\n",
    "\treturn random.choices((0, 1), k=width)\n",
    "\n",
    "\n",
    "def ascii_iterations(\n",
    "\tinitial_state: Sequence[int],\n",
    "\tdeath_rules: Sequence[Sequence[int]],\n",
    "\tspawn_rules: Sequence[Sequence[int]],\n",
    "\tradius: int = 3,\n",
    "\titerations: int = 20,\n",
    ") -> str:\n",
    "\tdef next_state(\n",
    "\t\tstate: Sequence[int],\n",
    "\t\tback_buffer: MutableSequence[int],\n",
    "\t):\n",
    "\t\toffset = radius // 2\n",
    "\t\tfor i in range(offset, len(state) - radius):\n",
    "\t\t\tsegment = tuple(state[i:i+radius])\n",
    "\t\t\tif segment in death_rules:\n",
    "\t\t\t\tback_buffer[i+offset] = 0\n",
    "\t\t\telif segment in spawn_rules:\n",
    "\t\t\t\tback_buffer[i+offset] = 1\n",
    "\n",
    "\tbuf = []\n",
    "\tback_buffer = [e for e in initial_state]\n",
    "\tfor _ in range(iterations):\n",
    "\t\tline = \"\"\n",
    "\t\tfor c in initial_state:\n",
    "\t\t\tline += \" \" if c == 0 else \"#\"\n",
    "\t\tnext_state(initial_state, back_buffer)\n",
    "\t\tinitial_state, back_buffer = back_buffer, initial_state\n",
    "\t\tbuf.append(line)\n",
    "\treturn \"\\n\".join(buf)\n",
    "\n",
    "def draw_iterations(\n",
    "\tinitial_state: Sequence[int],\n",
    "\tdeath_rules: Sequence[Sequence[int]],\n",
    "\tspawn_rules: Sequence[Sequence[int]],\n",
    "\tradius: int = 3,\n",
    "\titerations: int = 20,\n",
    "):\n",
    "\tdef next_state(\n",
    "\t\tstate: Sequence[int],\n",
    "\t\tback_buffer: MutableSequence[int],\n",
    "\t):\n",
    "\t\toffset = radius // 2\n",
    "\t\tfor i in range(offset, len(state) - radius):\n",
    "\t\t\tsegment = tuple(state[i:i+radius])\n",
    "\t\t\tif segment in death_rules:\n",
    "\t\t\t\tback_buffer[i+offset] = 0\n",
    "\t\t\telif segment in spawn_rules:\n",
    "\t\t\t\tback_buffer[i+offset] = 1\n",
    "\n",
    "\tcell_count = len(initial_state)\n",
    "\tpx = 1/plt.rcParams['figure.dpi']\n",
    "\tfigsize=(cell_count*CELL_WIDTH*px, iterations*CELL_HEIGHT*px)\n",
    "\tx, y = 0, 0\n",
    "\tfig, ax = plt.subplots(figsize=figsize)\n",
    "\tax.set_aspect('equal', 'box')\n",
    "\tback_buffer = [e for e in initial_state]\n",
    "\tfor _ in range(iterations):\n",
    "\t\tfor c in initial_state:\n",
    "\t\t\tif c == 0:\n",
    "\t\t\t\tcolor = 'white'\n",
    "\t\t\telse:\n",
    "\t\t\t\tcolor = 'black'\n",
    "\t\t\tax.fill(\n",
    "\t\t\t\t(x, x + CELL_WIDTH, x + CELL_WIDTH, x),\n",
    "\t\t\t\t(y, y, y - CELL_HEIGHT, y - CELL_HEIGHT),\n",
    "\t\t\t\tcolor,\n",
    "\t\t\t)\n",
    "\t\t\tx += CELL_WIDTH\n",
    "\t\tx = 0\n",
    "\t\ty -= CELL_HEIGHT\n",
    "\t\tnext_state(initial_state, back_buffer)\n",
    "\t\tinitial_state, back_buffer = back_buffer, initial_state\n",
    "\tax.axis(\"off\")\n",
    "\tfig.show()\n",
    "\n",
    "\n",
    "def display_iterations(\n",
    "\tinitial_state: Sequence[int],\n",
    "\tdeath_rules: Sequence[Sequence[int]],\n",
    "\tspawn_rules: Sequence[Sequence[int]],\n",
    "\tradius: int = 3,\n",
    "\titerations: int = 20,\n",
    "\tfigure: bool = True,\n",
    "\tascii: bool = True,\n",
    "):\n",
    "\tif figure:\n",
    "\t\tdraw_iterations([e for e in initial_state], death_rules, spawn_rules, radius, iterations)\n",
    "\tif ascii:\n",
    "\t\tprint(ascii_iterations(initial_state, death_rules, spawn_rules, radius, iterations))"
   ]
  },
  {
   "cell_type": "markdown",
   "id": "8eb70a3f",
   "metadata": {},
   "source": [
    "## Rule 90"
   ]
  },
  {
   "cell_type": "code",
   "execution_count": 2,
   "id": "34a60816",
   "metadata": {},
   "outputs": [
    {
     "name": "stdout",
     "output_type": "stream",
     "text": [
      "                                          #                                         \n",
      "                                         # #                                        \n",
      "                                        #   #                                       \n",
      "                                       # # # #                                      \n",
      "                                      #       #                                     \n",
      "                                     # #     # #                                    \n",
      "                                    #   #   #   #                                   \n",
      "                                   # # # # # # # #                                  \n",
      "                                  #               #                                 \n",
      "                                 # #             # #                                \n",
      "                                #   #           #   #                               \n",
      "                               # # # #         # # # #                              \n",
      "                              #       #       #       #                             \n",
      "                             # #     # #     # #     # #                            \n",
      "                            #   #   #   #   #   #   #   #                           \n",
      "                           # # # # # # # # # # # # # # # #                          \n",
      "                          #                               #                         \n",
      "                         # #                             # #                        \n",
      "                        #   #                           #   #                       \n",
      "                       # # # #                         # # # #                      \n"
     ]
    },
    {
     "name": "stderr",
     "output_type": "stream",
     "text": [
      "C:\\Users\\Ote Leo\\AppData\\Local\\Temp\\ipykernel_32700\\1921440378.py:94: UserWarning: FigureCanvasAgg is non-interactive, and thus cannot be shown\n",
      "  fig.show()\n"
     ]
    },
    {
     "data": {
      "image/png": "[encoded data removed]",
      "text/plain": [
       "<Figure size 1680x400 with 1 Axes>"
      ]
     },
     "metadata": {},
     "output_type": "display_data"
    }
   ],
   "source": [
    "display_iterations(\n",
    "    middle_cell(),\n",
    "\tdeath_rules=(\n",
    "        (1,1,1),\n",
    "        (1,0,1),\n",
    "        (0,1,0),\n",
    "        (0,0,0),\n",
    "\t),\n",
    "    spawn_rules=(\n",
    "        (1,1,0),\n",
    "        (1,0,0),\n",
    "        (0,1,1),\n",
    "        (0,0,1),\n",
    "\t),\n",
    ")"
   ]
  },
  {
   "cell_type": "code",
   "execution_count": 3,
   "id": "9833a5e7",
   "metadata": {},
   "outputs": [
    {
     "name": "stdout",
     "output_type": "stream",
     "text": [
      "  #  ## ###           ### ### #  ######  ####      # #####     ####      # ## # #   \n",
      "   #### # ##         ## # # #  ###    ####  ##    #  #   ##   ##  ##    #  ##    #  \n",
      "  ##  #   ###       ###      ### ##  ##  ######  # ## # #### ########  # #####  #   \n",
      "  #### # ## ##     ## ##    ## # #########    ###  ##   #  # #      ###  #   ### #  \n",
      "  #  #   ## ###   ### ###  ###   #       ##  ## ###### # ##   #    ## ### # ## #    \n",
      "   ## # ### # ## ## # # #### ## # #     ####### #    #   ### # #  ### # #   ##  #   \n",
      "  ###   # #   ## ##     #  # ##    #   ##     #  #  # # ## #    ### #    # ##### #  \n",
      "  # ## #   # ### ###   # ##  ###  # # ####   # ## ##    ##  #  ## #  #  #  #   #    \n",
      "    ##  # #  # # # ## #  ##### ###    #  ## #  ## ###  ##### ####  ## ## ## # # #   \n",
      "   #####   ##      ##  ###   # # ##  # ####  #### # ####   # #  ##### ## ##      #  \n",
      "  ##   ## ####    ###### ## #    ####  #  ####  #   #  ## #   ###   # ## ###    #   \n",
      "  ### ### #  ##  ##    # ##  #  ##  ### ###  ### # # ####  # ## ## #  ## # ##  # #  \n",
      "  # # # #  #########  #  #### ####### # # #### #     #  ###  ## ##  ####   ####     \n",
      "         ###       ### ###  # #     #     #  #  #   # ### ##### #####  ## ##  ##    \n",
      "        ## ##     ## # # ###   #   # #   # ## ## # #  # # #   # #   ##### #######   \n",
      "       ### ###   ###     # ## # # #   # #  ## ##    ##     # #   # ##   # #     ##  \n",
      "      ## # # ## ## ##   #  ##      # #   #### ###  ####   #   # #  ### #   #   ###  \n",
      "     ###     ## ## ### # #####    #   # ##  # # ####  ## # # #   ### #  # # # ## #  \n",
      "    ## ##   ### ## # #   #   ##  # # #  ####    #  #####      # ## #  ##      ##    \n",
      "   ### ### ## # ##    # # # #####     ###  ##  # ###   ##    #  ##  #####    ####   \n"
     ]
    },
    {
     "name": "stderr",
     "output_type": "stream",
     "text": [
      "C:\\Users\\Ote Leo\\AppData\\Local\\Temp\\ipykernel_32700\\1921440378.py:94: UserWarning: FigureCanvasAgg is non-interactive, and thus cannot be shown\n",
      "  fig.show()\n"
     ]
    },
    {
     "data": {
      "image/png": "[encoded data removed]",
      "text/plain": [
       "<Figure size 1680x400 with 1 Axes>"
      ]
     },
     "metadata": {},
     "output_type": "display_data"
    }
   ],
   "source": [
    "display_iterations(\n",
    "    random_cells(),\n",
    "\tdeath_rules=(\n",
    "        (1,1,1),\n",
    "        (1,0,1),\n",
    "        (0,1,0),\n",
    "        (0,0,0),\n",
    "\t),\n",
    "    spawn_rules=(\n",
    "        (1,1,0),\n",
    "        (1,0,0),\n",
    "        (0,1,1),\n",
    "        (0,0,1),\n",
    "\t),\n",
    ")"
   ]
  },
  {
   "cell_type": "markdown",
   "id": "90055422",
   "metadata": {},
   "source": [
    "## Rule 50"
   ]
  },
  {
   "cell_type": "code",
   "execution_count": 4,
   "id": "be07faa9",
   "metadata": {},
   "outputs": [
    {
     "name": "stdout",
     "output_type": "stream",
     "text": [
      "                                          #                                         \n",
      "                                         # #                                        \n",
      "                                        # # #                                       \n",
      "                                       # # # #                                      \n",
      "                                      # # # # #                                     \n",
      "                                     # # # # # #                                    \n",
      "                                    # # # # # # #                                   \n",
      "                                   # # # # # # # #                                  \n",
      "                                  # # # # # # # # #                                 \n",
      "                                 # # # # # # # # # #                                \n",
      "                                # # # # # # # # # # #                               \n",
      "                               # # # # # # # # # # # #                              \n",
      "                              # # # # # # # # # # # # #                             \n",
      "                             # # # # # # # # # # # # # #                            \n",
      "                            # # # # # # # # # # # # # # #                           \n",
      "                           # # # # # # # # # # # # # # # #                          \n",
      "                          # # # # # # # # # # # # # # # # #                         \n",
      "                         # # # # # # # # # # # # # # # # # #                        \n",
      "                        # # # # # # # # # # # # # # # # # # #                       \n",
      "                       # # # # # # # # # # # # # # # # # # # #                      \n"
     ]
    },
    {
     "name": "stderr",
     "output_type": "stream",
     "text": [
      "C:\\Users\\Ote Leo\\AppData\\Local\\Temp\\ipykernel_32700\\1921440378.py:94: UserWarning: FigureCanvasAgg is non-interactive, and thus cannot be shown\n",
      "  fig.show()\n"
     ]
    },
    {
     "data": {
      "image/png": "[encoded data removed]",
      "text/plain": [
       "<Figure size 1680x400 with 1 Axes>"
      ]
     },
     "metadata": {},
     "output_type": "display_data"
    }
   ],
   "source": [
    "display_iterations(\n",
    "    middle_cell(),\n",
    "\tdeath_rules=(\n",
    "        (1,1,1),\n",
    "        (1,1,0),\n",
    "        (0,1,1),\n",
    "        (0,1,0),\n",
    "        (0,0,0),\n",
    "\t),\n",
    "    spawn_rules=(\n",
    "        (1,0,1),\n",
    "        (1,0,0),\n",
    "        (0,0,1),\n",
    "\t),\n",
    ")"
   ]
  },
  {
   "cell_type": "code",
   "execution_count": 5,
   "id": "96092957",
   "metadata": {},
   "outputs": [
    {
     "name": "stdout",
     "output_type": "stream",
     "text": [
      " #  #### #### # # # ##     # #       ### ##   #### ###  #  # # #     ##  # ##  #### \n",
      " ###    #    # # # #  #   # # #     #   #  # #    #   ## ## # # #   #  ## #  ##   # \n",
      " #  #  # #  # # # # ## # # # # #   # # # ## # #  # # #  #  # # # # # ##  # ##  # ## \n",
      " ### ## # ## # # # #  # # # # # # # # # #  # # ## # # ## ## # # # # #  ## #  ## # # \n",
      " #  #  # #  # # # # ## # # # # # # # # # ## # #  # # #  #  # # # # # ##  # ##  # ## \n",
      " ### ## # ## # # # #  # # # # # # # # # #  # # ## # # ## ## # # # # #  ## #  ## # # \n",
      " #  #  # #  # # # # ## # # # # # # # # # ## # #  # # #  #  # # # # # ##  # ##  # ## \n",
      " ### ## # ## # # # #  # # # # # # # # # #  # # ## # # ## ## # # # # #  ## #  ## # # \n",
      " #  #  # #  # # # # ## # # # # # # # # # ## # #  # # #  #  # # # # # ##  # ##  # ## \n",
      " ### ## # ## # # # #  # # # # # # # # # #  # # ## # # ## ## # # # # #  ## #  ## # # \n",
      " #  #  # #  # # # # ## # # # # # # # # # ## # #  # # #  #  # # # # # ##  # ##  # ## \n",
      " ### ## # ## # # # #  # # # # # # # # # #  # # ## # # ## ## # # # # #  ## #  ## # # \n",
      " #  #  # #  # # # # ## # # # # # # # # # ## # #  # # #  #  # # # # # ##  # ##  # ## \n",
      " ### ## # ## # # # #  # # # # # # # # # #  # # ## # # ## ## # # # # #  ## #  ## # # \n",
      " #  #  # #  # # # # ## # # # # # # # # # ## # #  # # #  #  # # # # # ##  # ##  # ## \n",
      " ### ## # ## # # # #  # # # # # # # # # #  # # ## # # ## ## # # # # #  ## #  ## # # \n",
      " #  #  # #  # # # # ## # # # # # # # # # ## # #  # # #  #  # # # # # ##  # ##  # ## \n",
      " ### ## # ## # # # #  # # # # # # # # # #  # # ## # # ## ## # # # # #  ## #  ## # # \n",
      " #  #  # #  # # # # ## # # # # # # # # # ## # #  # # #  #  # # # # # ##  # ##  # ## \n",
      " ### ## # ## # # # #  # # # # # # # # # #  # # ## # # ## ## # # # # #  ## #  ## # # \n"
     ]
    },
    {
     "name": "stderr",
     "output_type": "stream",
     "text": [
      "C:\\Users\\Ote Leo\\AppData\\Local\\Temp\\ipykernel_32700\\1921440378.py:94: UserWarning: FigureCanvasAgg is non-interactive, and thus cannot be shown\n",
      "  fig.show()\n"
     ]
    },
    {
     "data": {
      "image/png": "[encoded data removed]",
      "text/plain": [
       "<Figure size 1680x400 with 1 Axes>"
      ]
     },
     "metadata": {},
     "output_type": "display_data"
    }
   ],
   "source": [
    "display_iterations(\n",
    "    random_cells(),\n",
    "\tdeath_rules=(\n",
    "        (1,1,1),\n",
    "        (1,1,0),\n",
    "        (0,1,1),\n",
    "        (0,1,0),\n",
    "        (0,0,0),\n",
    "\t),\n",
    "    spawn_rules=(\n",
    "        (1,0,1),\n",
    "        (1,0,0),\n",
    "        (0,0,1),\n",
    "\t),\n",
    ")"
   ]
  },
  {
   "cell_type": "markdown",
   "id": "ac8b0c11",
   "metadata": {},
   "source": [
    "## Rule 54"
   ]
  },
  {
   "cell_type": "code",
   "execution_count": 6,
   "id": "77178efb",
   "metadata": {},
   "outputs": [
    {
     "name": "stdout",
     "output_type": "stream",
     "text": [
      "                                          #                                         \n",
      "                                         ###                                        \n",
      "                                        #   #                                       \n",
      "                                       ### ###                                      \n",
      "                                      #   #   #                                     \n",
      "                                     ### ### ###                                    \n",
      "                                    #   #   #   #                                   \n",
      "                                   ### ### ### ###                                  \n",
      "                                  #   #   #   #   #                                 \n",
      "                                 ### ### ### ### ###                                \n",
      "                                #   #   #   #   #   #                               \n",
      "                               ### ### ### ### ### ###                              \n",
      "                              #   #   #   #   #   #   #                             \n",
      "                             ### ### ### ### ### ### ###                            \n",
      "                            #   #   #   #   #   #   #   #                           \n",
      "                           ### ### ### ### ### ### ### ###                          \n",
      "                          #   #   #   #   #   #   #   #   #                         \n",
      "                         ### ### ### ### ### ### ### ### ###                        \n",
      "                        #   #   #   #   #   #   #   #   #   #                       \n",
      "                       ### ### ### ### ### ### ### ### ### ###                      \n"
     ]
    },
    {
     "name": "stderr",
     "output_type": "stream",
     "text": [
      "C:\\Users\\Ote Leo\\AppData\\Local\\Temp\\ipykernel_32700\\1921440378.py:94: UserWarning: FigureCanvasAgg is non-interactive, and thus cannot be shown\n",
      "  fig.show()\n"
     ]
    },
    {
     "data": {
      "image/png": "[encoded data removed]",
      "text/plain": [
       "<Figure size 1680x400 with 1 Axes>"
      ]
     },
     "metadata": {},
     "output_type": "display_data"
    }
   ],
   "source": [
    "display_iterations(\n",
    "    middle_cell(),\n",
    "\tdeath_rules=(\n",
    "        (1,1,1),\n",
    "        (1,1,0),\n",
    "        (0,1,1),\n",
    "        (0,0,0),\n",
    "\t),\n",
    "    spawn_rules=(\n",
    "        (1,0,1),\n",
    "        (1,0,0),\n",
    "        (0,1,0),\n",
    "        (0,0,1),\n",
    "\t),\n",
    ")"
   ]
  },
  {
   "cell_type": "code",
   "execution_count": 7,
   "id": "6bd47448",
   "metadata": {},
   "outputs": [
    {
     "name": "stdout",
     "output_type": "stream",
     "text": [
      "#    ##    ###     ## ##  #####    # ####   ###  #   # ####      #  # ###    # # ## \n",
      "#   #  #  #   #   #  #  ##     #  ###    # #   #### ###    #    ######   #  ##### # \n",
      "#  ######### ### #######  #   ####   #  ##### #    #   #  ###  #      # ####     ## \n",
      "# #         #   #       #### #    # ####     ###  ### ####   ####    ###    #   # # \n",
      "# ##       ### ###     #    ###  ###    #   #   ##   #    # #    #  #   #  ### #### \n",
      "#   #     #   #   #   ###  #   ##   #  ### ### #  # ###  #####  ###### ####   #   # \n",
      "#  ###   ### ### ### #   #### #  # ####   #   ######   ##     ##      #    # ### ## \n",
      "# #   # #   #   #   ### #    ######    # ### #      # #  #   #  #    ###  ###   # # \n",
      "# ## ##### ### ### #   ###  #      #  ###   ###    ######## ######  #   ##   # #### \n",
      "#   #     #   #   ### #   ####    ####   # #   #  #        #      #### #  # ###   # \n",
      "#  ###   ### ### #   ### #    #  #    # ##### ######      ###    #    ######   # ## \n",
      "# #   # #   #   ### #   ###  ######  ###     #      #    #   #  ###  #      # ### # \n",
      "# ## ##### ### #   ### #   ##      ##   #   ###    ###  ### ####   ####    ###   ## \n",
      "#   #     #   ### #   ### #  #    #  # ### #   #  #   ##   #    # #    #  #   # # # \n",
      "#  ###   ### #   ### #   ######  ######   ### ###### #  # ###  #####  ###### ###### \n",
      "# #   # #   ### #   ### #      ##      # #   #      ######   ##     ##      #     # \n",
      "# ## ##### #   ### #   ###    #  #    ##### ###    #      # #  #   #  #    ###   ## \n",
      "#   #     ### #   ### #   #  ######  #     #   #  ###    ######## ######  #   # # # \n",
      "#  ###   #   ### #   ### ####      ####   ### ####   #  #        #      #### ###### \n",
      "# #   # ### #   ### #   #    #    #    # #   #    # ######      ###    #    #     # \n"
     ]
    },
    {
     "name": "stderr",
     "output_type": "stream",
     "text": [
      "C:\\Users\\Ote Leo\\AppData\\Local\\Temp\\ipykernel_32700\\1921440378.py:94: UserWarning: FigureCanvasAgg is non-interactive, and thus cannot be shown\n",
      "  fig.show()\n"
     ]
    },
    {
     "data": {
      "image/png": "[encoded data removed]",
      "text/plain": [
       "<Figure size 1680x400 with 1 Axes>"
      ]
     },
     "metadata": {},
     "output_type": "display_data"
    }
   ],
   "source": [
    "display_iterations(\n",
    "    random_cells(),\n",
    "\tdeath_rules=(\n",
    "        (1,1,1),\n",
    "        (1,1,0),\n",
    "        (0,1,1),\n",
    "        (0,0,0),\n",
    "\t),\n",
    "    spawn_rules=(\n",
    "        (1,0,1),\n",
    "        (1,0,0),\n",
    "        (0,1,0),\n",
    "        (0,0,1),\n",
    "\t),\n",
    ")"
   ]
  },
  {
   "cell_type": "markdown",
   "id": "a183f6f4",
   "metadata": {},
   "source": [
    "## Rule 30"
   ]
  },
  {
   "cell_type": "code",
   "execution_count": 8,
   "id": "18a67192",
   "metadata": {},
   "outputs": [
    {
     "name": "stdout",
     "output_type": "stream",
     "text": [
      "                                          #                                         \n",
      "                                         ###                                        \n",
      "                                        ##  #                                       \n",
      "                                       ## ####                                      \n",
      "                                      ##  #   #                                     \n",
      "                                     ## #### ###                                    \n",
      "                                    ##  #    #  #                                   \n",
      "                                   ## ####  ######                                  \n",
      "                                  ##  #   ###     #                                 \n",
      "                                 ## #### ##  #   ###                                \n",
      "                                ##  #    # #### ##  #                               \n",
      "                               ## ####  ## #    # ####                              \n",
      "                              ##  #   ###  ##  ## #   #                             \n",
      "                             ## #### ##  ### ###  ## ###                            \n",
      "                            ##  #    # ###   #  ###  #  #                           \n",
      "                           ## ####  ## #  # #####  #######                          \n",
      "                          ##  #   ###  #### #    ###      #                         \n",
      "                         ## #### ##  ###    ##  ##  #    ###                        \n",
      "                        ##  #    # ###  #  ## ### ####  ##  #                       \n",
      "                       ## ####  ## #  ######  #   #   ### ####                      \n"
     ]
    },
    {
     "name": "stderr",
     "output_type": "stream",
     "text": [
      "C:\\Users\\Ote Leo\\AppData\\Local\\Temp\\ipykernel_32700\\1921440378.py:94: UserWarning: FigureCanvasAgg is non-interactive, and thus cannot be shown\n",
      "  fig.show()\n"
     ]
    },
    {
     "data": {
      "image/png": "[encoded data removed]",
      "text/plain": [
       "<Figure size 1680x400 with 1 Axes>"
      ]
     },
     "metadata": {},
     "output_type": "display_data"
    }
   ],
   "source": [
    "display_iterations(\n",
    "    middle_cell(),\n",
    "\tdeath_rules=(\n",
    "        (1,1,1),\n",
    "        (1,1,0),\n",
    "        (1,0,1),\n",
    "        (0,0,0),\n",
    "\t),\n",
    "    spawn_rules=(\n",
    "        (1,0,0),\n",
    "        (0,1,1),\n",
    "        (0,1,0),\n",
    "        (0,0,1),\n",
    "\t),\n",
    ")"
   ]
  },
  {
   "cell_type": "code",
   "execution_count": 9,
   "id": "fca0877b",
   "metadata": {},
   "outputs": [
    {
     "name": "stderr",
     "output_type": "stream",
     "text": [
      "C:\\Users\\Ote Leo\\AppData\\Local\\Temp\\ipykernel_32700\\1921440378.py:94: UserWarning: FigureCanvasAgg is non-interactive, and thus cannot be shown\n",
      "  fig.show()\n"
     ]
    },
    {
     "data": {
      "image/png": "[encoded data removed]",
      "text/plain": [
       "<Figure size 1680x400 with 1 Axes>"
      ]
     },
     "metadata": {},
     "output_type": "display_data"
    }
   ],
   "source": [
    "display_iterations(\n",
    "    random_cells(),\n",
    "\tdeath_rules=(\n",
    "        (1,1,1),\n",
    "        (1,1,0),\n",
    "        (1,0,1),\n",
    "        (0,0,0),\n",
    "\t),\n",
    "    spawn_rules=(\n",
    "        (1,0,0),\n",
    "        (0,1,1),\n",
    "        (0,1,0),\n",
    "        (0,0,1),\n",
    "\t),\n",
    "\tascii=False,\n",
    ")"
   ]
  },
  {
   "cell_type": "markdown",
   "id": "9af4932a",
   "metadata": {},
   "source": [
    "## Rule 110"
   ]
  },
  {
   "cell_type": "code",
   "execution_count": 10,
   "id": "c4170f13",
   "metadata": {},
   "outputs": [
    {
     "name": "stdout",
     "output_type": "stream",
     "text": [
      "                                          #                                         \n",
      "                                         ##                                         \n",
      "                                        ###                                         \n",
      "                                       ## #                                         \n",
      "                                      #####                                         \n",
      "                                     ##   #                                         \n",
      "                                    ###  ##                                         \n",
      "                                   ## # ###                                         \n",
      "                                  ####### #                                         \n",
      "                                 ##     ###                                         \n",
      "                                ###    ## #                                         \n",
      "                               ## #   #####                                         \n",
      "                              #####  ##   #                                         \n",
      "                             ##   # ###  ##                                         \n",
      "                            ###  #### # ###                                         \n",
      "                           ## # ##  ##### #                                         \n",
      "                          ######## ##   ###                                         \n",
      "                         ##      ####  ## #                                         \n",
      "                        ###     ##  # #####                                         \n",
      "                       ## #    ### ####   #                                         \n"
     ]
    },
    {
     "name": "stderr",
     "output_type": "stream",
     "text": [
      "C:\\Users\\Ote Leo\\AppData\\Local\\Temp\\ipykernel_32700\\1921440378.py:94: UserWarning: FigureCanvasAgg is non-interactive, and thus cannot be shown\n",
      "  fig.show()\n"
     ]
    },
    {
     "data": {
      "image/png": "[encoded data removed]",
      "text/plain": [
       "<Figure size 1680x400 with 1 Axes>"
      ]
     },
     "metadata": {},
     "output_type": "display_data"
    }
   ],
   "source": [
    "display_iterations(\n",
    "    middle_cell(),\n",
    "\tdeath_rules=(\n",
    "        (1,1,1),\n",
    "        (1,0,0),\n",
    "        (0,0,0),\n",
    "\t),\n",
    "    spawn_rules=(\n",
    "        (1,1,0),\n",
    "        (1,0,1),\n",
    "        (0,1,1),\n",
    "        (0,1,0),\n",
    "        (0,0,1),\n",
    "\t),\n",
    ")"
   ]
  },
  {
   "cell_type": "code",
   "execution_count": 11,
   "id": "4e14d484",
   "metadata": {},
   "outputs": [
    {
     "name": "stdout",
     "output_type": "stream",
     "text": [
      "# ##  # #     ##   ## # #    ## # ## # #     ##   ####   ####  ##    # ###    #  ## \n",
      "# ## ####    ###  #######   ############    ###  ##  #  ##  # ###   #### #   ## ### \n",
      "# ####  #   ## # ##     #  ##          #   ## # ### ## ### #### #  ##  ###  ##### # \n",
      "# #  # ##  ########    ## ###         ##  ####### ###### ###  ### ### ## # ##   ### \n",
      "# # ##### ##      #   ##### #        ### ##     ###    ### # ## ### #########  ## # \n",
      "# ###   ####     ##  ##   ###       ## ####    ## #   ## ######## ###       # ##### \n",
      "# # #  ##  #    ### ###  ## #      #####  #   #####  #####      ### #      ####   # \n",
      "# ### ### ##   ## ### # #####     ##   # ##  ##   # ##   #     ## ###     ##  #  ## \n",
      "# # ### ####  ##### #####   #    ###  ##### ###  #####  ##    ##### #    ### ## ### \n",
      "# ### ###  # ##   ###   #  ##   ## # ##   ### # ##   # ###   ##   ###   ## ###### # \n",
      "# # ### # #####  ## #  ## ###  ########  ## ######  #### #  ###  ## #  #####    ### \n",
      "# ### #####   # ##### ##### # ##      # #####    # ##  ### ## # ##### ##   #   ## # \n",
      "# # ###   #  ####   ###   ######     ####   #   ##### ## ########   ####  ##  ##### \n",
      "# ### #  ## ##  #  ## #  ##    #    ##  #  ##  ##   ######      #  ##  # ### ##   # \n",
      "# # ### ###### ## ##### ###   ##   ### ## ### ###  ##    #     ## ### #### ####  ## \n",
      "# ### ###    ######   ### #  ###  ## ###### ### # ###   ##    ##### ###  ###  # ### \n",
      "# # ### #   ##    #  ## ### ## # #####    ### ##### #  ###   ##   ### # ## # #### # \n",
      "# ### ###  ###   ## ##### ########   #   ## ###   ### ## #  ###  ## ##########  ### \n",
      "# # ### # ## #  #####   ###      #  ##  ##### #  ## ###### ## # #####        # ## # \n",
      "# ### ######## ##   #  ## #     ## ### ##   ### #####    ########   #       ####### \n"
     ]
    },
    {
     "name": "stderr",
     "output_type": "stream",
     "text": [
      "C:\\Users\\Ote Leo\\AppData\\Local\\Temp\\ipykernel_32700\\1921440378.py:94: UserWarning: FigureCanvasAgg is non-interactive, and thus cannot be shown\n",
      "  fig.show()\n"
     ]
    },
    {
     "data": {
      "image/png": "[encoded data removed]",
      "text/plain": [
       "<Figure size 1680x400 with 1 Axes>"
      ]
     },
     "metadata": {},
     "output_type": "display_data"
    }
   ],
   "source": [
    "display_iterations(\n",
    "    random_cells(),\n",
    "\tdeath_rules=(\n",
    "        (1,1,1),\n",
    "        (1,0,0),\n",
    "        (0,0,0),\n",
    "\t),\n",
    "    spawn_rules=(\n",
    "        (1,1,0),\n",
    "        (1,0,1),\n",
    "        (0,1,1),\n",
    "        (0,1,0),\n",
    "        (0,0,1),\n",
    "\t),\n",
    ")"
   ]
  },
  {
   "cell_type": "markdown",
   "id": "c69a05ab",
   "metadata": {},
   "source": [
    "## Interactive Version\n",
    "\n",
    "TODO: make an interactive version using `ipywidgets` where the use can:\n",
    "\n",
    "1. Choose between the random and the middle state.\n",
    "2. Insert custom rules.\n",
    "3. Choose a custom radius."
   ]
  }
 ],
 "metadata": {
  "kernelspec": {
   "display_name": ".venv",
   "language": "python",
   "name": "python3"
  },
  "language_info": {
   "codemirror_mode": {
    "name": "ipython",
    "version": 3
   },
   "file_extension": ".py",
   "mimetype": "text/x-python",
   "name": "python",
   "nbconvert_exporter": "python",
   "pygments_lexer": "ipython3",
   "version": "3.10.16"
  }
 },
 "nbformat": 4,
 "nbformat_minor": 5
}
