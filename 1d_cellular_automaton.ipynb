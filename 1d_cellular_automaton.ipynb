{
 "cells": [
  {
   "cell_type": "markdown",
   "id": "bfcf2e4c",
   "metadata": {},
   "source": [
    "# Programming Assignment: A\n",
    "\n",
    "Implement a 1-dimensional cellular automaton in Python with the $k = 2$ states $\\{0, 1\\}$, with a neighborhood radius of $r = 1$ or $r = 2$, and $84$ cells.\n",
    "\n",
    "The boundary cells $j = 0$, $j = 1$, $j = 82$, $j = 83$ shall be fixed to the content a $j = 0$. The programm shall depict in every line the complete state of all $84$ cells as `text console ASCII` output.\n",
    "\n",
    "Implement two possible starting conditions for the CA:\n",
    "\n",
    "- **S:** a seed (all cells are empty but cell no $42$, $a_{i=42} = 1$), and\n",
    "- **R:** random starting condition, each cell is set with a probability of $p = 0.5$.\n",
    "\n",
    "Let the user enter at runtime: the neighborhood radius $r$, the rule for the CA (Wolfram Notation), and the starting condition (S or R) and depict at least 20 iterations of the CA."
   ]
  },
  {
   "cell_type": "code",
   "execution_count": 12,
   "id": "85e3c92d",
   "metadata": {},
   "outputs": [],
   "source": [
    "%matplotlib inline\n",
    "import matplotlib.pyplot as plt\n",
    "\n",
    "from collections.abc import Sequence, MutableSequence\n",
    "\n",
    "CELL_WIDTH: int = 20\n",
    "CELL_HEIGHT: int = CELL_WIDTH\n",
    "\n",
    "\n",
    "def middle_cell(width: int = 84) -> list[int]:\n",
    "    \"\"\"Create an empty cell board with the middle cell activated.\"\"\"\n",
    "    cells = [0 for _ in range(width)]\n",
    "    cells[int(width / 2)] = 1\n",
    "    return cells\n",
    "\n",
    "\n",
    "def random_cells(width: int = 84) -> list[int]:\n",
    "    import random\n",
    "\n",
    "    return random.choices((0, 1), k=width)\n",
    "\n",
    "\n",
    "def ascii_iterations(\n",
    "    initial_state: Sequence[int],\n",
    "    death_rules: Sequence[Sequence[int]],\n",
    "    spawn_rules: Sequence[Sequence[int]],\n",
    "    radius: int = 3,\n",
    "    iterations: int = 20,\n",
    ") -> str:\n",
    "    def next_state(\n",
    "        state: Sequence[int],\n",
    "        back_buffer: MutableSequence[int],\n",
    "    ):\n",
    "        offset = radius // 2\n",
    "        for i in range(offset, len(state) - radius):\n",
    "            segment = tuple(state[i : i + radius])\n",
    "            if segment in death_rules:\n",
    "                back_buffer[i + offset] = 0\n",
    "            elif segment in spawn_rules:\n",
    "                back_buffer[i + offset] = 1\n",
    "\n",
    "    buf = []\n",
    "    back_buffer = [e for e in initial_state]\n",
    "    for _ in range(iterations):\n",
    "        line = \"\"\n",
    "        for c in initial_state:\n",
    "            line += \" \" if c == 0 else \"#\"\n",
    "        next_state(initial_state, back_buffer)\n",
    "        initial_state, back_buffer = back_buffer, initial_state\n",
    "        buf.append(line)\n",
    "    return \"\\n\".join(buf)\n",
    "\n",
    "\n",
    "def draw_iterations(\n",
    "    initial_state: Sequence[int],\n",
    "    death_rules: Sequence[Sequence[int]],\n",
    "    spawn_rules: Sequence[Sequence[int]],\n",
    "    radius: int = 3,\n",
    "    iterations: int = 20,\n",
    "):\n",
    "    def next_state(\n",
    "        state: Sequence[int],\n",
    "        back_buffer: MutableSequence[int],\n",
    "    ):\n",
    "        offset = radius // 2\n",
    "        for i in range(offset, len(state) - radius):\n",
    "            segment = tuple(state[i : i + radius])\n",
    "            if segment in death_rules:\n",
    "                back_buffer[i + offset] = 0\n",
    "            elif segment in spawn_rules:\n",
    "                back_buffer[i + offset] = 1\n",
    "\n",
    "    cell_count = len(initial_state)\n",
    "    px = 1 / plt.rcParams[\"figure.dpi\"]\n",
    "    figsize = (cell_count * CELL_WIDTH * px, iterations * CELL_HEIGHT * px)\n",
    "    x, y = 0, 0\n",
    "    _, ax = plt.subplots(figsize=figsize)\n",
    "    ax.set_aspect(\"equal\", \"box\")\n",
    "    back_buffer = [e for e in initial_state]\n",
    "    for _ in range(iterations):\n",
    "        for c in initial_state:\n",
    "            if c == 0:\n",
    "                color = \"white\"\n",
    "            else:\n",
    "                color = \"black\"\n",
    "            ax.fill(\n",
    "                (x, x + CELL_WIDTH, x + CELL_WIDTH, x),\n",
    "                (y, y, y - CELL_HEIGHT, y - CELL_HEIGHT),\n",
    "                color,\n",
    "            )\n",
    "            x += CELL_WIDTH\n",
    "        x = 0\n",
    "        y -= CELL_HEIGHT\n",
    "        next_state(initial_state, back_buffer)\n",
    "        initial_state, back_buffer = back_buffer, initial_state\n",
    "    ax.axis(\"off\")\n",
    "\n",
    "\n",
    "def display_iterations(\n",
    "    initial_state: Sequence[int],\n",
    "    death_rules: Sequence[Sequence[int]],\n",
    "    spawn_rules: Sequence[Sequence[int]],\n",
    "    radius: int = 3,\n",
    "    iterations: int = 20,\n",
    "    figure: bool = True,\n",
    "    ascii: bool = True,\n",
    "):\n",
    "    if figure:\n",
    "        draw_iterations(\n",
    "            [e for e in initial_state], death_rules, spawn_rules, radius, iterations\n",
    "        )\n",
    "    if ascii:\n",
    "        print(\n",
    "            ascii_iterations(\n",
    "                initial_state, death_rules, spawn_rules, radius, iterations\n",
    "            )\n",
    "        )"
   ]
  },
  {
   "cell_type": "markdown",
   "id": "8eb70a3f",
   "metadata": {},
   "source": [
    "## Rule 90"
   ]
  },
  {
   "cell_type": "code",
   "execution_count": 13,
   "id": "34a60816",
   "metadata": {},
   "outputs": [
    {
     "name": "stdout",
     "output_type": "stream",
     "text": [
      "                                          #                                         \n",
      "                                         # #                                        \n",
      "                                        #   #                                       \n",
      "                                       # # # #                                      \n",
      "                                      #       #                                     \n",
      "                                     # #     # #                                    \n",
      "                                    #   #   #   #                                   \n",
      "                                   # # # # # # # #                                  \n",
      "                                  #               #                                 \n",
      "                                 # #             # #                                \n",
      "                                #   #           #   #                               \n",
      "                               # # # #         # # # #                              \n",
      "                              #       #       #       #                             \n",
      "                             # #     # #     # #     # #                            \n",
      "                            #   #   #   #   #   #   #   #                           \n",
      "                           # # # # # # # # # # # # # # # #                          \n",
      "                          #                               #                         \n",
      "                         # #                             # #                        \n",
      "                        #   #                           #   #                       \n",
      "                       # # # #                         # # # #                      \n"
     ]
    },
    {
     "data": {
      "image/png": "[encoded data removed]",
      "text/plain": [
       "<Figure size 1680x400 with 1 Axes>"
      ]
     },
     "metadata": {},
     "output_type": "display_data"
    }
   ],
   "source": [
    "display_iterations(\n",
    "    middle_cell(),\n",
    "    death_rules=(\n",
    "        (1, 1, 1),\n",
    "        (1, 0, 1),\n",
    "        (0, 1, 0),\n",
    "        (0, 0, 0),\n",
    "    ),\n",
    "    spawn_rules=(\n",
    "        (1, 1, 0),\n",
    "        (1, 0, 0),\n",
    "        (0, 1, 1),\n",
    "        (0, 0, 1),\n",
    "    ),\n",
    ")"
   ]
  },
  {
   "cell_type": "code",
   "execution_count": 14,
   "id": "9833a5e7",
   "metadata": {},
   "outputs": [
    {
     "name": "stdout",
     "output_type": "stream",
     "text": [
      " #          ## # #  ##  #       ### ###### ## ###  #  #  # ##   ##  ## ##     #  #  \n",
      " ##        ###    ###### #     ## # #    # ## # ### ## ##  ### ####### ###   # ##   \n",
      " ###      ## ##  ##    #  #   ###    #  #  ##   # # ## ##### # #     # # ## #  ###  \n",
      " # ##    ### #######  # ## # ## ##  # ## ##### #    ## #   #    #   #    ##  ### #  \n",
      " # ###  ## # #     ###  ##   ## ####  ## #   #  #  ###  # # #  # # # #  ###### #    \n",
      " # # #####    #   ## ###### ### #  #####  # # ## ### ###     ##       ###    #  #   \n",
      " #   #   ##  # # ### #    # # #  ###   ###    ## # # # ##   ####     ## ##  # ## #  \n",
      " ## # # #####    # #  #  #     ### ## ## ##  ###       ### ##  ##   ### ####  ##    \n",
      " ##     #   ##  #   ## ## #   ## # ## ## ##### ##     ## # ####### ## # #  ######   \n",
      " ###   # # ##### # ### ##  # ###   ## ## #   # ###   ###   #     # ##    ###    ##  \n",
      " # ## #    #   #   # # ####  # ## ### ##  # #  # ## ## ## # #   #  ###  ## ##  ###  \n",
      " # ##  #  # # # # #    #  ###  ## # # ####   ##  ## ## ##    # # ### ##### ##### #  \n",
      " # #### ##         #  # ### #####     #  ## ####### ## ###  #    # # #   # #   #    \n",
      " # #  # ###       # ##  # # #   ##   # #### #     # ## # ### #  #     # #   # # #   \n",
      " #  ##  # ##     #  ####     # #### #  #  #  #   #  ##   # #  ## #   #   # #     #  \n",
      " #######  ###   # ###  ##   #  #  #  ## ## ## # # ##### #   ####  # # # #   #   #   \n",
      " #     #### ## #  # ###### # ## ## #### ## ##     #   #  # ##  ###       # # # # #  \n",
      " ##   ##  # ##  ##  #    #   ## ## #  # ## ###   # # # ##  ##### ##     #           \n",
      " ### #####  ######## #  # # ### ##  ##  ## # ## #      #####   # ###   # #          \n",
      " # # #   ####      #  ##    # # ##########   ##  #    ##   ## #  # ## #   #         \n"
     ]
    },
    {
     "data": {
      "image/png": "[encoded data removed]",
      "text/plain": [
       "<Figure size 1680x400 with 1 Axes>"
      ]
     },
     "metadata": {},
     "output_type": "display_data"
    }
   ],
   "source": [
    "display_iterations(\n",
    "    random_cells(),\n",
    "    death_rules=(\n",
    "        (1, 1, 1),\n",
    "        (1, 0, 1),\n",
    "        (0, 1, 0),\n",
    "        (0, 0, 0),\n",
    "    ),\n",
    "    spawn_rules=(\n",
    "        (1, 1, 0),\n",
    "        (1, 0, 0),\n",
    "        (0, 1, 1),\n",
    "        (0, 0, 1),\n",
    "    ),\n",
    ")"
   ]
  },
  {
   "cell_type": "markdown",
   "id": "90055422",
   "metadata": {},
   "source": [
    "## Rule 50"
   ]
  },
  {
   "cell_type": "code",
   "execution_count": 15,
   "id": "be07faa9",
   "metadata": {},
   "outputs": [
    {
     "name": "stdout",
     "output_type": "stream",
     "text": [
      "                                          #                                         \n",
      "                                         # #                                        \n",
      "                                        # # #                                       \n",
      "                                       # # # #                                      \n",
      "                                      # # # # #                                     \n",
      "                                     # # # # # #                                    \n",
      "                                    # # # # # # #                                   \n",
      "                                   # # # # # # # #                                  \n",
      "                                  # # # # # # # # #                                 \n",
      "                                 # # # # # # # # # #                                \n",
      "                                # # # # # # # # # # #                               \n",
      "                               # # # # # # # # # # # #                              \n",
      "                              # # # # # # # # # # # # #                             \n",
      "                             # # # # # # # # # # # # # #                            \n",
      "                            # # # # # # # # # # # # # # #                           \n",
      "                           # # # # # # # # # # # # # # # #                          \n",
      "                          # # # # # # # # # # # # # # # # #                         \n",
      "                         # # # # # # # # # # # # # # # # # #                        \n",
      "                        # # # # # # # # # # # # # # # # # # #                       \n",
      "                       # # # # # # # # # # # # # # # # # # # #                      \n"
     ]
    },
    {
     "data": {
      "image/png": "[encoded data removed]",
      "text/plain": [
       "<Figure size 1680x400 with 1 Axes>"
      ]
     },
     "metadata": {},
     "output_type": "display_data"
    }
   ],
   "source": [
    "display_iterations(\n",
    "    middle_cell(),\n",
    "    death_rules=(\n",
    "        (1, 1, 1),\n",
    "        (1, 1, 0),\n",
    "        (0, 1, 1),\n",
    "        (0, 1, 0),\n",
    "        (0, 0, 0),\n",
    "    ),\n",
    "    spawn_rules=(\n",
    "        (1, 0, 1),\n",
    "        (1, 0, 0),\n",
    "        (0, 0, 1),\n",
    "    ),\n",
    ")"
   ]
  },
  {
   "cell_type": "code",
   "execution_count": 16,
   "id": "96092957",
   "metadata": {},
   "outputs": [
    {
     "name": "stdout",
     "output_type": "stream",
     "text": [
      "   ####     #   ###  # ###  ### ##  # #####  ### # #### ##  # # ##  #  # ## ##    ##\n",
      "  #    #   # # #   ## #   ##   #  ## #     ##   # #    #  ## # #  ## ## #  #  #  ###\n",
      "   #  # # # # # # #  # # #  # # ##  # #   #  # # # #  # ##  # # ##  #  # ## ## ## ##\n",
      "  # ## # # # # # # ## # # ## # #  ## # # # ## # # # ## #  ## # #  ## ## #  #  #  ###\n",
      "   #  # # # # # # #  # # #  # # ##  # # # #  # # # #  # ##  # # ##  #  # ## ## ## ##\n",
      "  # ## # # # # # # ## # # ## # #  ## # # # ## # # # ## #  ## # #  ## ## #  #  #  ###\n",
      "   #  # # # # # # #  # # #  # # ##  # # # #  # # # #  # ##  # # ##  #  # ## ## ## ##\n",
      "  # ## # # # # # # ## # # ## # #  ## # # # ## # # # ## #  ## # #  ## ## #  #  #  ###\n",
      "   #  # # # # # # #  # # #  # # ##  # # # #  # # # #  # ##  # # ##  #  # ## ## ## ##\n",
      "  # ## # # # # # # ## # # ## # #  ## # # # ## # # # ## #  ## # #  ## ## #  #  #  ###\n",
      "   #  # # # # # # #  # # #  # # ##  # # # #  # # # #  # ##  # # ##  #  # ## ## ## ##\n",
      "  # ## # # # # # # ## # # ## # #  ## # # # ## # # # ## #  ## # #  ## ## #  #  #  ###\n",
      "   #  # # # # # # #  # # #  # # ##  # # # #  # # # #  # ##  # # ##  #  # ## ## ## ##\n",
      "  # ## # # # # # # ## # # ## # #  ## # # # ## # # # ## #  ## # #  ## ## #  #  #  ###\n",
      "   #  # # # # # # #  # # #  # # ##  # # # #  # # # #  # ##  # # ##  #  # ## ## ## ##\n",
      "  # ## # # # # # # ## # # ## # #  ## # # # ## # # # ## #  ## # #  ## ## #  #  #  ###\n",
      "   #  # # # # # # #  # # #  # # ##  # # # #  # # # #  # ##  # # ##  #  # ## ## ## ##\n",
      "  # ## # # # # # # ## # # ## # #  ## # # # ## # # # ## #  ## # #  ## ## #  #  #  ###\n",
      "   #  # # # # # # #  # # #  # # ##  # # # #  # # # #  # ##  # # ##  #  # ## ## ## ##\n",
      "  # ## # # # # # # ## # # ## # #  ## # # # ## # # # ## #  ## # #  ## ## #  #  #  ###\n"
     ]
    },
    {
     "data": {
      "image/png": "[encoded data removed]",
      "text/plain": [
       "<Figure size 1680x400 with 1 Axes>"
      ]
     },
     "metadata": {},
     "output_type": "display_data"
    }
   ],
   "source": [
    "display_iterations(\n",
    "    random_cells(),\n",
    "    death_rules=(\n",
    "        (1, 1, 1),\n",
    "        (1, 1, 0),\n",
    "        (0, 1, 1),\n",
    "        (0, 1, 0),\n",
    "        (0, 0, 0),\n",
    "    ),\n",
    "    spawn_rules=(\n",
    "        (1, 0, 1),\n",
    "        (1, 0, 0),\n",
    "        (0, 0, 1),\n",
    "    ),\n",
    ")"
   ]
  },
  {
   "cell_type": "markdown",
   "id": "ac8b0c11",
   "metadata": {},
   "source": [
    "## Rule 54"
   ]
  },
  {
   "cell_type": "code",
   "execution_count": 17,
   "id": "77178efb",
   "metadata": {},
   "outputs": [
    {
     "name": "stdout",
     "output_type": "stream",
     "text": [
      "                                          #                                         \n",
      "                                         ###                                        \n",
      "                                        #   #                                       \n",
      "                                       ### ###                                      \n",
      "                                      #   #   #                                     \n",
      "                                     ### ### ###                                    \n",
      "                                    #   #   #   #                                   \n",
      "                                   ### ### ### ###                                  \n",
      "                                  #   #   #   #   #                                 \n",
      "                                 ### ### ### ### ###                                \n",
      "                                #   #   #   #   #   #                               \n",
      "                               ### ### ### ### ### ###                              \n",
      "                              #   #   #   #   #   #   #                             \n",
      "                             ### ### ### ### ### ### ###                            \n",
      "                            #   #   #   #   #   #   #   #                           \n",
      "                           ### ### ### ### ### ### ### ###                          \n",
      "                          #   #   #   #   #   #   #   #   #                         \n",
      "                         ### ### ### ### ### ### ### ### ###                        \n",
      "                        #   #   #   #   #   #   #   #   #   #                       \n",
      "                       ### ### ### ### ### ### ### ### ### ###                      \n"
     ]
    },
    {
     "data": {
      "image/png": "[encoded data removed]",
      "text/plain": [
       "<Figure size 1680x400 with 1 Axes>"
      ]
     },
     "metadata": {},
     "output_type": "display_data"
    }
   ],
   "source": [
    "display_iterations(\n",
    "    middle_cell(),\n",
    "    death_rules=(\n",
    "        (1, 1, 1),\n",
    "        (1, 1, 0),\n",
    "        (0, 1, 1),\n",
    "        (0, 0, 0),\n",
    "    ),\n",
    "    spawn_rules=(\n",
    "        (1, 0, 1),\n",
    "        (1, 0, 0),\n",
    "        (0, 1, 0),\n",
    "        (0, 0, 1),\n",
    "    ),\n",
    ")"
   ]
  },
  {
   "cell_type": "code",
   "execution_count": 18,
   "id": "6bd47448",
   "metadata": {},
   "outputs": [
    {
     "name": "stdout",
     "output_type": "stream",
     "text": [
      "  ##  ### ###     #  ## ## ## # #  # #   # # # #   #  # ## # #### ###     #   ## ###\n",
      "    ##   #   #   ####  #  #  ########## ######### ######  ###    #   #   ### #  # ##\n",
      "   #  # ### ### #    ########          #         #      ##   #  ### ### #   ########\n",
      "  ######   #   ###  #        #        ###       ###    #  # ####   #   ### #      ##\n",
      "        # ### #   ####      ###      #   #     #   #  ######    # ### #   ###    ###\n",
      "       ###   ### #    #    #   #    ### ###   ### ####      #  ###   ### #   #  # ##\n",
      "      #   # #   ###  ###  ### ###  #   #   # #   #    #    ####   # #   ### ########\n",
      "     ### ##### #   ##   ##   #   #### ### ##### ###  ###  #    # ##### #   #      ##\n",
      "    #   #     ### #  # #  # ### #    #   #     #   ##   ####  ###     ### ###    ###\n",
      "   ### ###   #   ###########   ###  ### ###   ### #  # #    ##   #   #   #   #  # ##\n",
      "  #   #   # ### #           # #   ##   #   # #   ########  #  # ### ### ### ########\n",
      "  ## ### ###   ###         ##### #  # ### ##### #        #######   #   #   #      ##\n",
      "    #   #   # #   #       #     ######   #     ###      #       # ### ### ###    ###\n",
      "   ### ### ##### ###     ###   #      # ###   #   #    ###     ###   #   #   #  # ##\n",
      "  #   #   #     #   #   #   # ###    ###   # ### ###  #   #   #   # ### ### ########\n",
      "  ## ### ###   ### ### ### ###   #  #   # ###   #   #### ### ### ###   #   #      ##\n",
      "    #   #   # #   #   #   #   # ###### ###   # ### #    #   #   #   # ### ###    ###\n",
      "   ### ### ##### ### ### ### ###      #   # ###   ###  ### ### ### ###   #   #  # ##\n",
      "  #   #   #     #   #   #   #   #    ### ###   # #   ##   #   #   #   # ### ########\n",
      "  ## ### ###   ### ### ### ### ###  #   #   # ##### #  # ### ### ### ###   #      ##\n"
     ]
    },
    {
     "data": {
      "image/png": "[encoded data removed]",
      "text/plain": [
       "<Figure size 1680x400 with 1 Axes>"
      ]
     },
     "metadata": {},
     "output_type": "display_data"
    }
   ],
   "source": [
    "display_iterations(\n",
    "    random_cells(),\n",
    "    death_rules=(\n",
    "        (1, 1, 1),\n",
    "        (1, 1, 0),\n",
    "        (0, 1, 1),\n",
    "        (0, 0, 0),\n",
    "    ),\n",
    "    spawn_rules=(\n",
    "        (1, 0, 1),\n",
    "        (1, 0, 0),\n",
    "        (0, 1, 0),\n",
    "        (0, 0, 1),\n",
    "    ),\n",
    ")"
   ]
  },
  {
   "cell_type": "markdown",
   "id": "a183f6f4",
   "metadata": {},
   "source": [
    "## Rule 30"
   ]
  },
  {
   "cell_type": "code",
   "execution_count": 19,
   "id": "18a67192",
   "metadata": {},
   "outputs": [
    {
     "name": "stdout",
     "output_type": "stream",
     "text": [
      "                                          #                                         \n",
      "                                         ###                                        \n",
      "                                        ##  #                                       \n",
      "                                       ## ####                                      \n",
      "                                      ##  #   #                                     \n",
      "                                     ## #### ###                                    \n",
      "                                    ##  #    #  #                                   \n",
      "                                   ## ####  ######                                  \n",
      "                                  ##  #   ###     #                                 \n",
      "                                 ## #### ##  #   ###                                \n",
      "                                ##  #    # #### ##  #                               \n",
      "                               ## ####  ## #    # ####                              \n",
      "                              ##  #   ###  ##  ## #   #                             \n",
      "                             ## #### ##  ### ###  ## ###                            \n",
      "                            ##  #    # ###   #  ###  #  #                           \n",
      "                           ## ####  ## #  # #####  #######                          \n",
      "                          ##  #   ###  #### #    ###      #                         \n",
      "                         ## #### ##  ###    ##  ##  #    ###                        \n",
      "                        ##  #    # ###  #  ## ### ####  ##  #                       \n",
      "                       ## ####  ## #  ######  #   #   ### ####                      \n"
     ]
    },
    {
     "data": {
      "image/png": "[encoded data removed]",
      "text/plain": [
       "<Figure size 1680x400 with 1 Axes>"
      ]
     },
     "metadata": {},
     "output_type": "display_data"
    }
   ],
   "source": [
    "display_iterations(\n",
    "    middle_cell(),\n",
    "    death_rules=(\n",
    "        (1, 1, 1),\n",
    "        (1, 1, 0),\n",
    "        (1, 0, 1),\n",
    "        (0, 0, 0),\n",
    "    ),\n",
    "    spawn_rules=(\n",
    "        (1, 0, 0),\n",
    "        (0, 1, 1),\n",
    "        (0, 1, 0),\n",
    "        (0, 0, 1),\n",
    "    ),\n",
    ")"
   ]
  },
  {
   "cell_type": "code",
   "execution_count": 20,
   "id": "fca0877b",
   "metadata": {},
   "outputs": [
    {
     "name": "stdout",
     "output_type": "stream",
     "text": [
      "   # # ##### ## ###  # ### #    ## ####       #   ## #  ### #  ###  ####  # # # #   \n",
      "  ## # #     #  #  ### #   ##  ##  #   #     ### ##  ####   ####  ###   ### # # ##  \n",
      "  #  # ##   ########   ## ## ### #### ###   ##   # ###   # ##   ###  # ##   # # #   \n",
      "  #### # # ##       # ##  #  #   #    #  # ## # ## #  # ## # # ##  ### # # ## # ##  \n",
      "  #    # # # #     ## # ####### ###  ##### #  # #  #### #  # # # ###   # # #  # #   \n",
      "  ##  ## # # ##   ##  # #       #  ###     #### ####    #### # # #  # ## # #### ##  \n",
      "  # ###  # # # # ## ### ##     #####  #   ##    #   #  ##    # # #### #  # #    #   \n",
      "  # #  ### # # # #  #   # #   ##    #### ## #  ### ##### #  ## # #    #### ##  ###  \n",
      "  # ####   # # # ##### ## ## ## #  ##    #  ####   #     ####  # ##  ##    # ###    \n",
      "  # #   # ## # # #     #  #  #  #### #  #####   # ###   ##   ### # ### #  ## #  #   \n",
      "  # ## ## #  # # ##   ###########    ####    # ## #  # ## # ##   # #   ####  #####  \n",
      "  # #  #  #### # # # ##          #  ##   #  ## #  #### #  # # # ## ## ##   ###      \n",
      "  # #######    # # # # #        ##### # #####  ####    #### # # #  #  # # ##  #     \n",
      "  # #      #  ## # # # ##      ##     # #    ###   #  ##    # # ####### # # ####    \n",
      "  # ##    #####  # # # # #    ## #   ## ##  ##  # ##### #  ## # #       # # #   #   \n",
      "  # # #  ##    ### # # # ##  ##  ## ##  # ### ### #     ####  # ##     ## # ## ###  \n",
      "  # # #### #  ##   # # # # ### ###  # ### #   #   ##   ##   ### # #   ##  # #  #    \n",
      "  # # #    #### # ## # # # #   #  ### #   ## ### ## # ## # ##   # ## ## ### #####   \n",
      "  # # ##  ##    # #  # # # ## #####   ## ##  #   #  # #  # # # ## #  #  #   #    #  \n",
      "  # # # ### #  ## #### # # #  #    # ##  # #### ##### #### # # #  ######## ###  ##  \n"
     ]
    },
    {
     "data": {
      "image/png": "[encoded data removed]",
      "text/plain": [
       "<Figure size 1680x400 with 1 Axes>"
      ]
     },
     "metadata": {},
     "output_type": "display_data"
    }
   ],
   "source": [
    "display_iterations(\n",
    "    random_cells(),\n",
    "    death_rules=(\n",
    "        (1, 1, 1),\n",
    "        (1, 1, 0),\n",
    "        (1, 0, 1),\n",
    "        (0, 0, 0),\n",
    "    ),\n",
    "    spawn_rules=(\n",
    "        (1, 0, 0),\n",
    "        (0, 1, 1),\n",
    "        (0, 1, 0),\n",
    "        (0, 0, 1),\n",
    "    ),\n",
    ")"
   ]
  },
  {
   "cell_type": "markdown",
   "id": "9af4932a",
   "metadata": {},
   "source": [
    "## Rule 110"
   ]
  },
  {
   "cell_type": "code",
   "execution_count": 21,
   "id": "c4170f13",
   "metadata": {},
   "outputs": [
    {
     "name": "stdout",
     "output_type": "stream",
     "text": [
      "                                          #                                         \n",
      "                                         ##                                         \n",
      "                                        ###                                         \n",
      "                                       ## #                                         \n",
      "                                      #####                                         \n",
      "                                     ##   #                                         \n",
      "                                    ###  ##                                         \n",
      "                                   ## # ###                                         \n",
      "                                  ####### #                                         \n",
      "                                 ##     ###                                         \n",
      "                                ###    ## #                                         \n",
      "                               ## #   #####                                         \n",
      "                              #####  ##   #                                         \n",
      "                             ##   # ###  ##                                         \n",
      "                            ###  #### # ###                                         \n",
      "                           ## # ##  ##### #                                         \n",
      "                          ######## ##   ###                                         \n",
      "                         ##      ####  ## #                                         \n",
      "                        ###     ##  # #####                                         \n",
      "                       ## #    ### ####   #                                         \n"
     ]
    },
    {
     "data": {
      "image/png": "[encoded data removed]",
      "text/plain": [
       "<Figure size 1680x400 with 1 Axes>"
      ]
     },
     "metadata": {},
     "output_type": "display_data"
    }
   ],
   "source": [
    "display_iterations(\n",
    "    middle_cell(),\n",
    "    death_rules=(\n",
    "        (1, 1, 1),\n",
    "        (1, 0, 0),\n",
    "        (0, 0, 0),\n",
    "    ),\n",
    "    spawn_rules=(\n",
    "        (1, 1, 0),\n",
    "        (1, 0, 1),\n",
    "        (0, 1, 1),\n",
    "        (0, 1, 0),\n",
    "        (0, 0, 1),\n",
    "    ),\n",
    ")"
   ]
  },
  {
   "cell_type": "code",
   "execution_count": 22,
   "id": "4e14d484",
   "metadata": {},
   "outputs": [
    {
     "name": "stdout",
     "output_type": "stream",
     "text": [
      " ## #   ### ##  # ### # ##  # ## ### ###      #  ##### ##   ##### #    ##   # ## #  \n",
      " ####  ## #### #### ###### ####### ### #     ## ##   ####  ##   ###   ###  #######  \n",
      " #  # #####  ###  ###    ###     ### ###    ######  ##  # ###  ## #  ## # ##     #  \n",
      " # ####   # ## # ## #   ## #    ## ### #   ##    # ### #### # ##### ########    ##  \n",
      " ###  #  ############  #####   ##### ###  ###   #### ###  #####   ###      #   ###  \n",
      " # # ## ##          # ##   #  ##   ### # ## #  ##  ### # ##   #  ## #     ##  ## #  \n",
      " #########         #####  ## ###  ## ######## ### ## ######  ## #####    ### #####  \n",
      " #       #        ##   # ##### # #####      ### ######    # #####   #   ## ###   #  \n",
      " #      ##       ###  ####   #####   #     ## ###    #   ####   #  ##  ##### #  ##  \n",
      " #     ###      ## # ##  #  ##   #  ##    ##### #   ##  ##  #  ## ### ##   ### ###  \n",
      " #    ## #     ######## ## ###  ## ###   ##   ###  ### ### ## ##### ####  ## ### #  \n",
      " #   #####    ##      ###### # ##### #  ###  ## # ## ### ######   ###  # ##### ###  \n",
      " #  ##   #   ###     ##    #####   ### ## # ########## ###    #  ## # ####   ### #  \n",
      " # ###  ##  ## #    ###   ##   #  ## ########        ### #   ## #######  #  ## ###  \n",
      " ### # ### #####   ## #  ###  ## #####      #       ## ###  #####     # ## ##### #  \n",
      " # ##### ###   #  ##### ## # #####   #     ##      ##### # ##   #    #######   ###  \n",
      " ###   ### #  ## ##   ########   #  ##    ###     ##   ######  ##   ##     #  ## #  \n",
      " # #  ## ### ######  ##      #  ## ###   ## #    ###  ##    # ###  ###    ## #####  \n",
      " ### ##### ###    # ###     ## ##### #  #####   ## # ###   #### # ## #   #####   #  \n",
      " # ###   ### #   #### #    #####   ### ##   #  ####### #  ##  ########  ##   #  ##  \n"
     ]
    },
    {
     "data": {
      "image/png": "[encoded data removed]",
      "text/plain": [
       "<Figure size 1680x400 with 1 Axes>"
      ]
     },
     "metadata": {},
     "output_type": "display_data"
    }
   ],
   "source": [
    "display_iterations(\n",
    "    random_cells(),\n",
    "    death_rules=(\n",
    "        (1, 1, 1),\n",
    "        (1, 0, 0),\n",
    "        (0, 0, 0),\n",
    "    ),\n",
    "    spawn_rules=(\n",
    "        (1, 1, 0),\n",
    "        (1, 0, 1),\n",
    "        (0, 1, 1),\n",
    "        (0, 1, 0),\n",
    "        (0, 0, 1),\n",
    "    ),\n",
    ")"
   ]
  },
  {
   "cell_type": "markdown",
   "id": "c69a05ab",
   "metadata": {},
   "source": [
    "## Interactive Version\n",
    "\n",
    "TODO: make an interactive version using `ipywidgets` where the use can:\n",
    "\n",
    "1. Choose between the random and the middle state.\n",
    "2. Insert custom rules.\n",
    "3. Choose a custom radius."
   ]
  }
 ],
 "metadata": {
  "kernelspec": {
   "display_name": ".venv",
   "language": "python",
   "name": "python3"
  },
  "language_info": {
   "codemirror_mode": {
    "name": "ipython",
    "version": 3
   },
   "file_extension": ".py",
   "mimetype": "text/x-python",
   "name": "python",
   "nbconvert_exporter": "python",
   "pygments_lexer": "ipython3",
   "version": "3.10.16"
  }
 },
 "nbformat": 4,
 "nbformat_minor": 5
}
